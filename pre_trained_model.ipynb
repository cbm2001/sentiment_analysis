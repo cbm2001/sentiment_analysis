{
 "cells": [
  {
   "cell_type": "code",
   "execution_count": 2,
   "metadata": {},
   "outputs": [
    {
     "name": "stderr",
     "output_type": "stream",
     "text": [
      "ERROR: pip's dependency resolver does not currently take into account all the packages that are installed. This behaviour is the source of the following dependency conflicts.\n",
      "google-auth 2.19.1 requires urllib3<2.0, but you have urllib3 2.0.2 which is incompatible.\n",
      "tensorflow-intel 2.12.0 requires numpy<1.24,>=1.22, but you have numpy 1.24.3 which is incompatible.\n",
      "botocore 1.29.147 requires urllib3<1.27,>=1.25.4, but you have urllib3 2.0.2 which is incompatible.\n",
      "WARNING: Target directory D:\\Users\\Cheryl\\AppData\\Local\\Programs\\Python\\Python311\\Scripts\\certifi already exists. Specify --upgrade to force replacement.\n",
      "WARNING: Target directory D:\\Users\\Cheryl\\AppData\\Local\\Programs\\Python\\Python311\\Scripts\\certifi-2023.5.7.dist-info already exists. Specify --upgrade to force replacement.\n",
      "WARNING: Target directory D:\\Users\\Cheryl\\AppData\\Local\\Programs\\Python\\Python311\\Scripts\\charset_normalizer already exists. Specify --upgrade to force replacement.\n",
      "WARNING: Target directory D:\\Users\\Cheryl\\AppData\\Local\\Programs\\Python\\Python311\\Scripts\\charset_normalizer-3.1.0.dist-info already exists. Specify --upgrade to force replacement.\n",
      "WARNING: Target directory D:\\Users\\Cheryl\\AppData\\Local\\Programs\\Python\\Python311\\Scripts\\colorama already exists. Specify --upgrade to force replacement.\n",
      "WARNING: Target directory D:\\Users\\Cheryl\\AppData\\Local\\Programs\\Python\\Python311\\Scripts\\colorama-0.4.6.dist-info already exists. Specify --upgrade to force replacement.\n",
      "WARNING: Target directory D:\\Users\\Cheryl\\AppData\\Local\\Programs\\Python\\Python311\\Scripts\\filelock already exists. Specify --upgrade to force replacement.\n",
      "WARNING: Target directory D:\\Users\\Cheryl\\AppData\\Local\\Programs\\Python\\Python311\\Scripts\\filelock-3.12.0.dist-info already exists. Specify --upgrade to force replacement.\n",
      "WARNING: Target directory D:\\Users\\Cheryl\\AppData\\Local\\Programs\\Python\\Python311\\Scripts\\fsspec already exists. Specify --upgrade to force replacement.\n",
      "WARNING: Target directory D:\\Users\\Cheryl\\AppData\\Local\\Programs\\Python\\Python311\\Scripts\\fsspec-2023.5.0.dist-info already exists. Specify --upgrade to force replacement.\n",
      "WARNING: Target directory D:\\Users\\Cheryl\\AppData\\Local\\Programs\\Python\\Python311\\Scripts\\huggingface_hub already exists. Specify --upgrade to force replacement.\n",
      "WARNING: Target directory D:\\Users\\Cheryl\\AppData\\Local\\Programs\\Python\\Python311\\Scripts\\huggingface_hub-0.15.1.dist-info already exists. Specify --upgrade to force replacement.\n",
      "WARNING: Target directory D:\\Users\\Cheryl\\AppData\\Local\\Programs\\Python\\Python311\\Scripts\\idna already exists. Specify --upgrade to force replacement.\n",
      "WARNING: Target directory D:\\Users\\Cheryl\\AppData\\Local\\Programs\\Python\\Python311\\Scripts\\idna-3.4.dist-info already exists. Specify --upgrade to force replacement.\n",
      "WARNING: Target directory D:\\Users\\Cheryl\\AppData\\Local\\Programs\\Python\\Python311\\Scripts\\numpy already exists. Specify --upgrade to force replacement.\n",
      "WARNING: Target directory D:\\Users\\Cheryl\\AppData\\Local\\Programs\\Python\\Python311\\Scripts\\numpy-1.24.3.dist-info already exists. Specify --upgrade to force replacement.\n",
      "WARNING: Target directory D:\\Users\\Cheryl\\AppData\\Local\\Programs\\Python\\Python311\\Scripts\\packaging already exists. Specify --upgrade to force replacement.\n",
      "WARNING: Target directory D:\\Users\\Cheryl\\AppData\\Local\\Programs\\Python\\Python311\\Scripts\\packaging-23.1.dist-info already exists. Specify --upgrade to force replacement.\n",
      "WARNING: Target directory D:\\Users\\Cheryl\\AppData\\Local\\Programs\\Python\\Python311\\Scripts\\PyYAML-6.0.dist-info already exists. Specify --upgrade to force replacement.\n",
      "WARNING: Target directory D:\\Users\\Cheryl\\AppData\\Local\\Programs\\Python\\Python311\\Scripts\\regex already exists. Specify --upgrade to force replacement.\n",
      "WARNING: Target directory D:\\Users\\Cheryl\\AppData\\Local\\Programs\\Python\\Python311\\Scripts\\regex-2023.6.3.dist-info already exists. Specify --upgrade to force replacement.\n",
      "WARNING: Target directory D:\\Users\\Cheryl\\AppData\\Local\\Programs\\Python\\Python311\\Scripts\\requests already exists. Specify --upgrade to force replacement.\n",
      "WARNING: Target directory D:\\Users\\Cheryl\\AppData\\Local\\Programs\\Python\\Python311\\Scripts\\requests-2.31.0.dist-info already exists. Specify --upgrade to force replacement.\n",
      "WARNING: Target directory D:\\Users\\Cheryl\\AppData\\Local\\Programs\\Python\\Python311\\Scripts\\tokenizers already exists. Specify --upgrade to force replacement.\n",
      "WARNING: Target directory D:\\Users\\Cheryl\\AppData\\Local\\Programs\\Python\\Python311\\Scripts\\tokenizers-0.13.3.dist-info already exists. Specify --upgrade to force replacement.\n",
      "WARNING: Target directory D:\\Users\\Cheryl\\AppData\\Local\\Programs\\Python\\Python311\\Scripts\\tqdm already exists. Specify --upgrade to force replacement.\n",
      "WARNING: Target directory D:\\Users\\Cheryl\\AppData\\Local\\Programs\\Python\\Python311\\Scripts\\tqdm-4.65.0.dist-info already exists. Specify --upgrade to force replacement.\n",
      "WARNING: Target directory D:\\Users\\Cheryl\\AppData\\Local\\Programs\\Python\\Python311\\Scripts\\transformers already exists. Specify --upgrade to force replacement.\n",
      "WARNING: Target directory D:\\Users\\Cheryl\\AppData\\Local\\Programs\\Python\\Python311\\Scripts\\transformers-4.29.2.dist-info already exists. Specify --upgrade to force replacement.\n",
      "WARNING: Target directory D:\\Users\\Cheryl\\AppData\\Local\\Programs\\Python\\Python311\\Scripts\\typing_extensions-4.6.3.dist-info already exists. Specify --upgrade to force replacement.\n",
      "WARNING: Target directory D:\\Users\\Cheryl\\AppData\\Local\\Programs\\Python\\Python311\\Scripts\\typing_extensions.py already exists. Specify --upgrade to force replacement.\n",
      "WARNING: Target directory D:\\Users\\Cheryl\\AppData\\Local\\Programs\\Python\\Python311\\Scripts\\urllib3 already exists. Specify --upgrade to force replacement.\n",
      "WARNING: Target directory D:\\Users\\Cheryl\\AppData\\Local\\Programs\\Python\\Python311\\Scripts\\urllib3-2.0.2.dist-info already exists. Specify --upgrade to force replacement.\n",
      "WARNING: Target directory D:\\Users\\Cheryl\\AppData\\Local\\Programs\\Python\\Python311\\Scripts\\yaml already exists. Specify --upgrade to force replacement.\n",
      "WARNING: Target directory D:\\Users\\Cheryl\\AppData\\Local\\Programs\\Python\\Python311\\Scripts\\_yaml already exists. Specify --upgrade to force replacement.\n",
      "WARNING: Target directory D:\\Users\\Cheryl\\AppData\\Local\\Programs\\Python\\Python311\\Scripts\\__pycache__ already exists. Specify --upgrade to force replacement.\n",
      "WARNING: Target directory D:\\Users\\Cheryl\\AppData\\Local\\Programs\\Python\\Python311\\Scripts\\bin already exists. Specify --upgrade to force replacement.\n"
     ]
    }
   ],
   "source": [
    "!pip3 install -q transformers --target D:\\Users\\Cheryl\\AppData\\Local\\Programs\\Python\\Python311\\Scripts"
   ]
  },
  {
   "cell_type": "code",
   "execution_count": 3,
   "metadata": {},
   "outputs": [],
   "source": [
    "from transformers import pipeline"
   ]
  },
  {
   "cell_type": "code",
   "execution_count": 16,
   "metadata": {},
   "outputs": [
    {
     "name": "stderr",
     "output_type": "stream",
     "text": [
      "Downloading (…)lve/main/config.json: 100%|██████████| 949/949 [00:00<00:00, 948kB/s]\n",
      "Downloading pytorch_model.bin: 100%|██████████| 540M/540M [01:57<00:00, 4.60MB/s] \n",
      "Downloading (…)okenizer_config.json: 100%|██████████| 338/338 [00:00<?, ?B/s] \n",
      "Downloading (…)solve/main/vocab.txt: 100%|██████████| 843k/843k [00:00<00:00, 1.02MB/s]\n",
      "Downloading (…)solve/main/bpe.codes: 100%|██████████| 1.08M/1.08M [00:00<00:00, 1.19MB/s]\n",
      "Downloading (…)in/added_tokens.json: 100%|██████████| 22.0/22.0 [00:00<?, ?B/s]\n",
      "Downloading (…)cial_tokens_map.json: 100%|██████████| 167/167 [00:00<00:00, 48.0kB/s]\n",
      "emoji is not installed, thus not converting emoticons or emojis into text. Install emoji: pip3 install emoji==0.6.0\n"
     ]
    }
   ],
   "source": [
    "sentiment_pipeline = pipeline(model=\"finiteautomata/bertweet-base-sentiment-analysis\")"
   ]
  },
  {
   "cell_type": "code",
   "execution_count": 21,
   "metadata": {},
   "outputs": [
    {
     "data": {
      "text/plain": [
       "[{'label': 'POS', 'score': 0.9754078388214111},\n",
       " {'label': 'NEU', 'score': 0.7032070755958557},\n",
       " {'label': 'NEG', 'score': 0.9648382663726807}]"
      ]
     },
     "execution_count": 21,
     "metadata": {},
     "output_type": "execute_result"
    }
   ],
   "source": [
    "data = [\"Hope to see you soon\", \"You have changed\", \"I am bored.\"]\n",
    "sentiment_pipeline(data)"
   ]
  }
 ],
 "metadata": {
  "kernelspec": {
   "display_name": "Python 3",
   "language": "python",
   "name": "python3"
  },
  "language_info": {
   "codemirror_mode": {
    "name": "ipython",
    "version": 3
   },
   "file_extension": ".py",
   "mimetype": "text/x-python",
   "name": "python",
   "nbconvert_exporter": "python",
   "pygments_lexer": "ipython3",
   "version": "3.11.3"
  },
  "orig_nbformat": 4
 },
 "nbformat": 4,
 "nbformat_minor": 2
}
