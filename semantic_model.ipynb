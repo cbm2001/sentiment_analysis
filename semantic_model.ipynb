{
 "cells": [
  {
   "cell_type": "code",
   "execution_count": 1,
   "metadata": {},
   "outputs": [
    {
     "name": "stdout",
     "output_type": "stream",
     "text": [
      "Collecting torch\n",
      "  Using cached torch-2.0.1-cp311-cp311-win_amd64.whl (172.3 MB)\n",
      "Collecting torchvision\n",
      "  Using cached torchvision-0.15.2-cp311-cp311-win_amd64.whl (1.2 MB)\n",
      "Collecting torchaudio\n",
      "  Using cached torchaudio-2.0.2-cp311-cp311-win_amd64.whl (2.1 MB)\n",
      "Collecting filelock (from torch)\n",
      "  Using cached filelock-3.12.0-py3-none-any.whl (10 kB)\n",
      "Collecting typing-extensions (from torch)\n",
      "  Using cached typing_extensions-4.6.3-py3-none-any.whl (31 kB)\n",
      "Collecting sympy (from torch)\n",
      "  Using cached sympy-1.12-py3-none-any.whl (5.7 MB)\n",
      "Collecting networkx (from torch)\n",
      "  Using cached networkx-3.1-py3-none-any.whl (2.1 MB)\n",
      "Collecting jinja2 (from torch)\n",
      "  Using cached Jinja2-3.1.2-py3-none-any.whl (133 kB)\n",
      "Collecting numpy (from torchvision)\n",
      "  Using cached numpy-1.24.3-cp311-cp311-win_amd64.whl (14.8 MB)\n",
      "Collecting requests (from torchvision)\n",
      "  Using cached requests-2.31.0-py3-none-any.whl (62 kB)\n",
      "Collecting pillow!=8.3.*,>=5.3.0 (from torchvision)\n",
      "  Using cached Pillow-9.5.0-cp311-cp311-win_amd64.whl (2.5 MB)\n",
      "Collecting MarkupSafe>=2.0 (from jinja2->torch)\n",
      "  Using cached MarkupSafe-2.1.3-cp311-cp311-win_amd64.whl (17 kB)\n",
      "Collecting charset-normalizer<4,>=2 (from requests->torchvision)\n",
      "  Using cached charset_normalizer-3.1.0-cp311-cp311-win_amd64.whl (96 kB)\n",
      "Collecting idna<4,>=2.5 (from requests->torchvision)\n",
      "  Using cached idna-3.4-py3-none-any.whl (61 kB)\n",
      "Collecting urllib3<3,>=1.21.1 (from requests->torchvision)\n",
      "  Using cached urllib3-2.0.2-py3-none-any.whl (123 kB)\n",
      "Collecting certifi>=2017.4.17 (from requests->torchvision)\n",
      "  Using cached certifi-2023.5.7-py3-none-any.whl (156 kB)\n",
      "Collecting mpmath>=0.19 (from sympy->torch)\n",
      "  Using cached mpmath-1.3.0-py3-none-any.whl (536 kB)\n",
      "Installing collected packages: mpmath, urllib3, typing-extensions, sympy, pillow, numpy, networkx, MarkupSafe, idna, filelock, charset-normalizer, certifi, requests, jinja2, torch, torchvision, torchaudio\n",
      "Successfully installed MarkupSafe-2.1.3 certifi-2023.5.7 charset-normalizer-3.1.0 filelock-3.12.0 idna-3.4 jinja2-3.1.2 mpmath-1.3.0 networkx-3.1 numpy-1.24.3 pillow-9.5.0 requests-2.31.0 sympy-1.12 torch-2.0.1 torchaudio-2.0.2 torchvision-0.15.2 typing-extensions-4.6.3 urllib3-2.0.2\n"
     ]
    },
    {
     "name": "stderr",
     "output_type": "stream",
     "text": [
      "ERROR: pip's dependency resolver does not currently take into account all the packages that are installed. This behaviour is the source of the following dependency conflicts.\n",
      "google-auth 2.19.1 requires urllib3<2.0, but you have urllib3 2.0.2 which is incompatible.\n",
      "tensorflow-intel 2.12.0 requires numpy<1.24,>=1.22, but you have numpy 1.24.3 which is incompatible.\n",
      "botocore 1.29.147 requires urllib3<1.27,>=1.25.4, but you have urllib3 2.0.2 which is incompatible.\n",
      "WARNING: Target directory D:\\Users\\Cheryl\\AppData\\Local\\Programs\\Python\\Python311\\Scripts\\certifi already exists. Specify --upgrade to force replacement.\n",
      "WARNING: Target directory D:\\Users\\Cheryl\\AppData\\Local\\Programs\\Python\\Python311\\Scripts\\certifi-2023.5.7.dist-info already exists. Specify --upgrade to force replacement.\n",
      "WARNING: Target directory D:\\Users\\Cheryl\\AppData\\Local\\Programs\\Python\\Python311\\Scripts\\charset_normalizer already exists. Specify --upgrade to force replacement.\n",
      "WARNING: Target directory D:\\Users\\Cheryl\\AppData\\Local\\Programs\\Python\\Python311\\Scripts\\charset_normalizer-3.1.0.dist-info already exists. Specify --upgrade to force replacement.\n",
      "WARNING: Target directory D:\\Users\\Cheryl\\AppData\\Local\\Programs\\Python\\Python311\\Scripts\\filelock already exists. Specify --upgrade to force replacement.\n",
      "WARNING: Target directory D:\\Users\\Cheryl\\AppData\\Local\\Programs\\Python\\Python311\\Scripts\\filelock-3.12.0.dist-info already exists. Specify --upgrade to force replacement.\n",
      "WARNING: Target directory D:\\Users\\Cheryl\\AppData\\Local\\Programs\\Python\\Python311\\Scripts\\functorch already exists. Specify --upgrade to force replacement.\n",
      "WARNING: Target directory D:\\Users\\Cheryl\\AppData\\Local\\Programs\\Python\\Python311\\Scripts\\idna already exists. Specify --upgrade to force replacement.\n",
      "WARNING: Target directory D:\\Users\\Cheryl\\AppData\\Local\\Programs\\Python\\Python311\\Scripts\\idna-3.4.dist-info already exists. Specify --upgrade to force replacement.\n",
      "WARNING: Target directory D:\\Users\\Cheryl\\AppData\\Local\\Programs\\Python\\Python311\\Scripts\\isympy.py already exists. Specify --upgrade to force replacement.\n",
      "WARNING: Target directory D:\\Users\\Cheryl\\AppData\\Local\\Programs\\Python\\Python311\\Scripts\\jinja2 already exists. Specify --upgrade to force replacement.\n",
      "WARNING: Target directory D:\\Users\\Cheryl\\AppData\\Local\\Programs\\Python\\Python311\\Scripts\\Jinja2-3.1.2.dist-info already exists. Specify --upgrade to force replacement.\n",
      "WARNING: Target directory D:\\Users\\Cheryl\\AppData\\Local\\Programs\\Python\\Python311\\Scripts\\markupsafe already exists. Specify --upgrade to force replacement.\n",
      "WARNING: Target directory D:\\Users\\Cheryl\\AppData\\Local\\Programs\\Python\\Python311\\Scripts\\MarkupSafe-2.1.3.dist-info already exists. Specify --upgrade to force replacement.\n",
      "WARNING: Target directory D:\\Users\\Cheryl\\AppData\\Local\\Programs\\Python\\Python311\\Scripts\\mpmath already exists. Specify --upgrade to force replacement.\n",
      "WARNING: Target directory D:\\Users\\Cheryl\\AppData\\Local\\Programs\\Python\\Python311\\Scripts\\mpmath-1.3.0.dist-info already exists. Specify --upgrade to force replacement.\n",
      "WARNING: Target directory D:\\Users\\Cheryl\\AppData\\Local\\Programs\\Python\\Python311\\Scripts\\networkx already exists. Specify --upgrade to force replacement.\n",
      "WARNING: Target directory D:\\Users\\Cheryl\\AppData\\Local\\Programs\\Python\\Python311\\Scripts\\networkx-3.1.dist-info already exists. Specify --upgrade to force replacement.\n",
      "WARNING: Target directory D:\\Users\\Cheryl\\AppData\\Local\\Programs\\Python\\Python311\\Scripts\\numpy already exists. Specify --upgrade to force replacement.\n",
      "WARNING: Target directory D:\\Users\\Cheryl\\AppData\\Local\\Programs\\Python\\Python311\\Scripts\\numpy-1.24.3.dist-info already exists. Specify --upgrade to force replacement.\n",
      "WARNING: Target directory D:\\Users\\Cheryl\\AppData\\Local\\Programs\\Python\\Python311\\Scripts\\PIL already exists. Specify --upgrade to force replacement.\n",
      "WARNING: Target directory D:\\Users\\Cheryl\\AppData\\Local\\Programs\\Python\\Python311\\Scripts\\Pillow-9.5.0.dist-info already exists. Specify --upgrade to force replacement.\n",
      "WARNING: Target directory D:\\Users\\Cheryl\\AppData\\Local\\Programs\\Python\\Python311\\Scripts\\requests already exists. Specify --upgrade to force replacement.\n",
      "WARNING: Target directory D:\\Users\\Cheryl\\AppData\\Local\\Programs\\Python\\Python311\\Scripts\\requests-2.31.0.dist-info already exists. Specify --upgrade to force replacement.\n",
      "WARNING: Target directory D:\\Users\\Cheryl\\AppData\\Local\\Programs\\Python\\Python311\\Scripts\\sympy already exists. Specify --upgrade to force replacement.\n",
      "WARNING: Target directory D:\\Users\\Cheryl\\AppData\\Local\\Programs\\Python\\Python311\\Scripts\\sympy-1.12.dist-info already exists. Specify --upgrade to force replacement.\n",
      "WARNING: Target directory D:\\Users\\Cheryl\\AppData\\Local\\Programs\\Python\\Python311\\Scripts\\torch already exists. Specify --upgrade to force replacement.\n",
      "WARNING: Target directory D:\\Users\\Cheryl\\AppData\\Local\\Programs\\Python\\Python311\\Scripts\\torch-2.0.1.dist-info already exists. Specify --upgrade to force replacement.\n",
      "WARNING: Target directory D:\\Users\\Cheryl\\AppData\\Local\\Programs\\Python\\Python311\\Scripts\\torchaudio already exists. Specify --upgrade to force replacement.\n",
      "WARNING: Target directory D:\\Users\\Cheryl\\AppData\\Local\\Programs\\Python\\Python311\\Scripts\\torchaudio-2.0.2.dist-info already exists. Specify --upgrade to force replacement.\n",
      "WARNING: Target directory D:\\Users\\Cheryl\\AppData\\Local\\Programs\\Python\\Python311\\Scripts\\torchgen already exists. Specify --upgrade to force replacement.\n",
      "WARNING: Target directory D:\\Users\\Cheryl\\AppData\\Local\\Programs\\Python\\Python311\\Scripts\\torchvision already exists. Specify --upgrade to force replacement.\n",
      "WARNING: Target directory D:\\Users\\Cheryl\\AppData\\Local\\Programs\\Python\\Python311\\Scripts\\torchvision-0.15.2.dist-info already exists. Specify --upgrade to force replacement.\n",
      "WARNING: Target directory D:\\Users\\Cheryl\\AppData\\Local\\Programs\\Python\\Python311\\Scripts\\typing_extensions-4.6.3.dist-info already exists. Specify --upgrade to force replacement.\n",
      "WARNING: Target directory D:\\Users\\Cheryl\\AppData\\Local\\Programs\\Python\\Python311\\Scripts\\typing_extensions.py already exists. Specify --upgrade to force replacement.\n",
      "WARNING: Target directory D:\\Users\\Cheryl\\AppData\\Local\\Programs\\Python\\Python311\\Scripts\\urllib3 already exists. Specify --upgrade to force replacement.\n",
      "WARNING: Target directory D:\\Users\\Cheryl\\AppData\\Local\\Programs\\Python\\Python311\\Scripts\\urllib3-2.0.2.dist-info already exists. Specify --upgrade to force replacement.\n",
      "WARNING: Target directory D:\\Users\\Cheryl\\AppData\\Local\\Programs\\Python\\Python311\\Scripts\\__pycache__ already exists. Specify --upgrade to force replacement.\n",
      "WARNING: Target directory D:\\Users\\Cheryl\\AppData\\Local\\Programs\\Python\\Python311\\Scripts\\bin already exists. Specify --upgrade to force replacement.\n",
      "WARNING: Target directory D:\\Users\\Cheryl\\AppData\\Local\\Programs\\Python\\Python311\\Scripts\\share already exists. Specify --upgrade to force replacement.\n"
     ]
    }
   ],
   "source": [
    "!pip3 install torch torchvision torchaudio --target D:\\Users\\Cheryl\\AppData\\Local\\Programs\\Python\\Python311\\Scripts"
   ]
  },
  {
   "cell_type": "code",
   "execution_count": 2,
   "metadata": {},
   "outputs": [
    {
     "name": "stdout",
     "output_type": "stream",
     "text": [
      "Requirement already satisfied: transformers in d:\\users\\cheryl\\appdata\\local\\programs\\python\\python311\\lib\\site-packages (4.29.2)\n",
      "Requirement already satisfied: requests in d:\\users\\cheryl\\appdata\\local\\programs\\python\\python311\\lib\\site-packages (2.31.0)\n",
      "Requirement already satisfied: beautifulsoup4 in d:\\users\\cheryl\\appdata\\local\\programs\\python\\python311\\lib\\site-packages (4.12.2)\n",
      "Requirement already satisfied: pandas in d:\\users\\cheryl\\appdata\\local\\programs\\python\\python311\\lib\\site-packages (2.0.2)\n",
      "Requirement already satisfied: numpy in d:\\users\\cheryl\\appdata\\local\\programs\\python\\python311\\lib\\site-packages (1.23.5)\n",
      "Requirement already satisfied: filelock in d:\\users\\cheryl\\appdata\\local\\programs\\python\\python311\\lib\\site-packages (from transformers) (3.12.0)\n",
      "Requirement already satisfied: huggingface-hub<1.0,>=0.14.1 in d:\\users\\cheryl\\appdata\\local\\programs\\python\\python311\\lib\\site-packages (from transformers) (0.15.1)\n",
      "Requirement already satisfied: packaging>=20.0 in c:\\users\\cheryl\\appdata\\roaming\\python\\python311\\site-packages (from transformers) (23.1)\n",
      "Requirement already satisfied: pyyaml>=5.1 in d:\\users\\cheryl\\appdata\\local\\programs\\python\\python311\\lib\\site-packages (from transformers) (6.0)\n",
      "Requirement already satisfied: regex!=2019.12.17 in d:\\users\\cheryl\\appdata\\local\\programs\\python\\python311\\lib\\site-packages (from transformers) (2023.6.3)\n",
      "Requirement already satisfied: tokenizers!=0.11.3,<0.14,>=0.11.1 in d:\\users\\cheryl\\appdata\\local\\programs\\python\\python311\\lib\\site-packages (from transformers) (0.13.3)\n",
      "Requirement already satisfied: tqdm>=4.27 in d:\\users\\cheryl\\appdata\\local\\programs\\python\\python311\\lib\\site-packages (from transformers) (4.65.0)\n",
      "Requirement already satisfied: charset-normalizer<4,>=2 in d:\\users\\cheryl\\appdata\\local\\programs\\python\\python311\\lib\\site-packages (from requests) (3.1.0)\n",
      "Requirement already satisfied: idna<4,>=2.5 in d:\\users\\cheryl\\appdata\\local\\programs\\python\\python311\\lib\\site-packages (from requests) (3.4)\n",
      "Requirement already satisfied: urllib3<3,>=1.21.1 in d:\\users\\cheryl\\appdata\\local\\programs\\python\\python311\\lib\\site-packages (from requests) (1.26.16)\n",
      "Requirement already satisfied: certifi>=2017.4.17 in d:\\users\\cheryl\\appdata\\local\\programs\\python\\python311\\lib\\site-packages (from requests) (2023.5.7)\n",
      "Requirement already satisfied: soupsieve>1.2 in d:\\users\\cheryl\\appdata\\local\\programs\\python\\python311\\lib\\site-packages (from beautifulsoup4) (2.4.1)\n",
      "Requirement already satisfied: python-dateutil>=2.8.2 in c:\\users\\cheryl\\appdata\\roaming\\python\\python311\\site-packages (from pandas) (2.8.2)\n",
      "Requirement already satisfied: pytz>=2020.1 in d:\\users\\cheryl\\appdata\\local\\programs\\python\\python311\\lib\\site-packages (from pandas) (2023.3)\n",
      "Requirement already satisfied: tzdata>=2022.1 in d:\\users\\cheryl\\appdata\\local\\programs\\python\\python311\\lib\\site-packages (from pandas) (2023.3)\n",
      "Requirement already satisfied: fsspec in d:\\users\\cheryl\\appdata\\local\\programs\\python\\python311\\lib\\site-packages (from huggingface-hub<1.0,>=0.14.1->transformers) (2023.5.0)\n",
      "Requirement already satisfied: typing-extensions>=3.7.4.3 in d:\\users\\cheryl\\appdata\\local\\programs\\python\\python311\\lib\\site-packages (from huggingface-hub<1.0,>=0.14.1->transformers) (4.6.3)\n",
      "Requirement already satisfied: six>=1.5 in c:\\users\\cheryl\\appdata\\roaming\\python\\python311\\site-packages (from python-dateutil>=2.8.2->pandas) (1.16.0)\n",
      "Requirement already satisfied: colorama in c:\\users\\cheryl\\appdata\\roaming\\python\\python311\\site-packages (from tqdm>=4.27->transformers) (0.4.6)\n"
     ]
    }
   ],
   "source": [
    "!pip3 install transformers requests beautifulsoup4 pandas numpy"
   ]
  },
  {
   "cell_type": "code",
   "execution_count": 3,
   "metadata": {},
   "outputs": [],
   "source": [
    "from transformers import AutoTokenizer, AutoModelForSequenceClassification\n",
    "import torch\n",
    "import requests\n",
    "from bs4 import BeautifulSoup\n",
    "import re"
   ]
  },
  {
   "cell_type": "code",
   "execution_count": 4,
   "metadata": {},
   "outputs": [
    {
     "data": {
      "application/vnd.jupyter.widget-view+json": {
       "model_id": "0bf2a4c237914743abe8bf832a2d96d4",
       "version_major": 2,
       "version_minor": 0
      },
      "text/plain": [
       "Downloading (…)okenizer_config.json:   0%|          | 0.00/39.0 [00:00<?, ?B/s]"
      ]
     },
     "metadata": {},
     "output_type": "display_data"
    },
    {
     "data": {
      "application/vnd.jupyter.widget-view+json": {
       "model_id": "8e22c3ced6754d6abeb05c4512c68203",
       "version_major": 2,
       "version_minor": 0
      },
      "text/plain": [
       "Downloading (…)lve/main/config.json:   0%|          | 0.00/953 [00:00<?, ?B/s]"
      ]
     },
     "metadata": {},
     "output_type": "display_data"
    },
    {
     "data": {
      "application/vnd.jupyter.widget-view+json": {
       "model_id": "c972c1842deb4513ab33679459d9bd23",
       "version_major": 2,
       "version_minor": 0
      },
      "text/plain": [
       "Downloading (…)solve/main/vocab.txt:   0%|          | 0.00/872k [00:00<?, ?B/s]"
      ]
     },
     "metadata": {},
     "output_type": "display_data"
    },
    {
     "data": {
      "application/vnd.jupyter.widget-view+json": {
       "model_id": "95f3de2c36574acda1623e05444d5b0b",
       "version_major": 2,
       "version_minor": 0
      },
      "text/plain": [
       "Downloading (…)cial_tokens_map.json:   0%|          | 0.00/112 [00:00<?, ?B/s]"
      ]
     },
     "metadata": {},
     "output_type": "display_data"
    },
    {
     "data": {
      "application/vnd.jupyter.widget-view+json": {
       "model_id": "46fa0bd2a9fb4efa820431b9df56040d",
       "version_major": 2,
       "version_minor": 0
      },
      "text/plain": [
       "Downloading pytorch_model.bin:   0%|          | 0.00/669M [00:00<?, ?B/s]"
      ]
     },
     "metadata": {},
     "output_type": "display_data"
    }
   ],
   "source": [
    "tokenizer = AutoTokenizer.from_pretrained('nlptown/bert-base-multilingual-uncased-sentiment', cache_dir='E:\\\\Users\\\\Cheryl\\\\' )\n",
    "model = AutoModelForSequenceClassification.from_pretrained('nlptown/bert-base-multilingual-uncased-sentiment', cache_dir='E:\\\\Users\\\\Cheryl\\\\')"
   ]
  },
  {
   "cell_type": "code",
   "execution_count": 5,
   "metadata": {},
   "outputs": [
    {
     "data": {
      "text/plain": [
       "4"
      ]
     },
     "execution_count": 5,
     "metadata": {},
     "output_type": "execute_result"
    }
   ],
   "source": [
    "tokens = tokenizer.encode('It was good but couldve been better. Great', return_tensors='pt')\n",
    "result = model(tokens)\n",
    "result.logits\n",
    "int(torch.argmax(result.logits))+1"
   ]
  },
  {
   "cell_type": "code",
   "execution_count": 6,
   "metadata": {},
   "outputs": [
    {
     "data": {
      "text/plain": [
       "[\"Great coffee and vibe. That's all \\xa0you need. Crab was outstanding but not good finger food like a taco should be. Really want to try the pork belly sandwich - looked excellent. This became my go to breakfast place in Darling harbor. Had the avocado salmon salad breakfast and it was excellent. Service has been excellent.\",\n",
       " \"Great coffee and vibe. That's all \\xa0you need. Crab was outstanding but not good finger food like a taco should be. Really want to try the pork belly sandwich - looked excellent.\",\n",
       " 'Great food amazing coffee and tea. Short walk from the harbor. Staff was very friendly',\n",
       " \"It was ok. Had coffee with my friends. I'm new in the area, still need to discover new places.\",\n",
       " \"Ricotta hot cakes! These were so yummy. I ate them pretty fast and didn't share with anyone because they were that good ;). I ordered a green smoothie to balance it all out. Smoothie was a nice way to end my brekkie at this restaurant. Others with me ordered the salmon Benedict and the smoked salmon flatbread. They were all delicious and all plates were empty. Cheers!\",\n",
       " 'Great staff and food. \\xa0Must try is the pan fried Gnocchi! \\xa0The staff were really friendly and the coffee was good as well',\n",
       " 'I came to Social brew cafe for brunch while exploring the city and on my way to the aquarium. I sat outside. The service was great and the food was good too!I ordered smoked salmon, truffle fries, black coffee and beer.',\n",
       " \"We came for brunch twice in our week-long visit to Sydney. Everything on the menu not only sounds delicious, but is really tasty. It really gave us a sour taste of how bad breaky is in America with what's so readily available in Sydney! \\xa0Both days we went were Saturdays and there was a bit of a wait to be seated, the cafe is extremely busy for both dine-in and take-away. Service is fairly quick and servers are all friendly. The location is in Surrey Hills a couple blocks away from the bustling touristy Darling Harbor.The green smoothie is very tasty and refreshing. We tried the smoked salmon salad, the soft shell crab tacos, ricotta hotcakes, and the breaky sandwich. All were delicious, well seasoned, and a solid amount of food for the price. A definite recommend for anyone's trip into Sydney!\",\n",
       " \"It was ok. The coffee wasn't the best but it was fine. The relish on the breakfast roll was yum which did make it sing. So perhaps I just got a bad coffee but the food was good on my visit.\",\n",
       " 'I went here a little while ago- a beautiful morning,a lovely little brew house on a quaint street corner- perfection.I went to this cafe with my step-daughter Lucille.She was always raving about how great it was to her mother, so I thought it would be a nice idea to go here with her for her birthday... boy was I wrong.She announced her hatred for me while I was waiting for my extra large iced frappé. It felt like hours of awkward silence once she said those four words; \"you\\'re a low-life.\"Was it in my mind, or was my drink taking ages to arrive? The hands on the clock didn\\'t budge from the last time I glanced at them- 7:43AM, where the fuck is my drink?\"Why do you always feel you have to be my friend? You\\'re not my dad!\" She fired.I could only sit there, my head facing down towards the floral tablecloth that lay beneath my quivering arms. The bullet lodged in my heart.I don\\'t understand why she hates me so much; is it my jokes? The funny way I walk? The fact that I often scream myself awake in the mornings? I guess I\\'ll never know.The truth is, I don\\'t really care about her that much at all. I\\'m only part of her family because her mother gives such great head. Other than that, she\\'s essentially bat shit on the pavement; waiting for some other poor soul to step on her once I\\'ve divorced her mother. I can\\'t say that to her though... at least not until her mother has let herself go.Where the fuck is my drink?The silence continued until the waiter brought over our coffees. About time!\"That looks nice\" I said to her as she stirred her sugar into the light brown liquid.\"Don\\'t talk to me. You always try to talk to me even though you know you\\'ll get nowhere. Why?\"\"Because I want to get to know you, I\\'m part of your family now.\" I said in reply.\"You\\'re fucking gross and you only want to hang around me because you have no mates.\"\"That isn\\'t true, I have plenty of friends, they just all died in terrible accidents under mildly suspicious circumstances.\" I retorted, happy with my defence.She sniggered, \"why did your last wife leave you anyways?\"\"She wasn\\'t happy with the way I used to curl up in the top-load washing machine and wait there until she unknowingly turned it on while I was in there. In my opinion, it saves time and water. Why have a shower and wash your clothes separately when you can do them simultaneously? I think she was angry because I didn\\'t seperate the whites and the blacks\" I stated, as I took my first sip of delicious Iced Frappé. The cream at the top coating my top lip.She replied, standing up and pushing in her chair, \"You\\'re fucking mental. I\\'m leaving, if you come back home, I\\'m literally killing myself.\" She exited the cafe.With the threat of suicide and the taste of coffee on my tongue, I left... alone.Overall it\\'s a lovely place, highly recommend it for anyone living in the Pyrmont area. Great atmosphere and wonderful staff.Definitely coming back.- 5 stars!!!',\n",
       " \"This place is a gem. The ambiance is to die for. The service is really nice. The coffee is a must. Ah I can still remember how that Ice Latte brought me back to life. I ordered the Mushroom and parmesan bruschetta. It was delish, even though if I ever get it again, I will asked for my eggs over easy. Bear and I both ordered the spiked Watermelon, passionfruit and pineapple juice. The spiked part was a joke, couldn't feel it or taste it. Whats the point then? If you offer something, really go for it. We sent them back for extra spike and it still came back pretty lame. But I still recommend the place =)\"]"
      ]
     },
     "execution_count": 6,
     "metadata": {},
     "output_type": "execute_result"
    }
   ],
   "source": [
    "r = requests.get('https://www.yelp.com/biz/social-brew-cafe-pyrmont')\n",
    "soup = BeautifulSoup(r.text, 'html.parser')\n",
    "regex = re.compile('.*comment.*')\n",
    "results = soup.find_all('p', {'class':regex})\n",
    "reviews = [result.text for result in results]\n",
    "reviews"
   ]
  },
  {
   "cell_type": "code",
   "execution_count": 7,
   "metadata": {},
   "outputs": [],
   "source": [
    "import numpy as np\n",
    "import pandas as pd\n",
    "df = pd.DataFrame(np.array(reviews), columns=['review'])\n",
    "df['review'].iloc[0]\n",
    "def sentiment_score(review):\n",
    "    tokens = tokenizer.encode(review, return_tensors='pt')\n",
    "    result = model(tokens)\n",
    "    return int(torch.argmax(result.logits))+1\n"
   ]
  },
  {
   "cell_type": "code",
   "execution_count": 8,
   "metadata": {},
   "outputs": [
    {
     "data": {
      "text/plain": [
       "4"
      ]
     },
     "execution_count": 8,
     "metadata": {},
     "output_type": "execute_result"
    }
   ],
   "source": [
    "sentiment_score(df['review'].iloc[1])"
   ]
  },
  {
   "cell_type": "code",
   "execution_count": 9,
   "metadata": {},
   "outputs": [],
   "source": [
    "df['sentiment'] = df['review'].apply(lambda x: sentiment_score(x[:512]))"
   ]
  },
  {
   "cell_type": "code",
   "execution_count": 10,
   "metadata": {},
   "outputs": [
    {
     "data": {
      "text/html": [
       "<div>\n",
       "<style scoped>\n",
       "    .dataframe tbody tr th:only-of-type {\n",
       "        vertical-align: middle;\n",
       "    }\n",
       "\n",
       "    .dataframe tbody tr th {\n",
       "        vertical-align: top;\n",
       "    }\n",
       "\n",
       "    .dataframe thead th {\n",
       "        text-align: right;\n",
       "    }\n",
       "</style>\n",
       "<table border=\"1\" class=\"dataframe\">\n",
       "  <thead>\n",
       "    <tr style=\"text-align: right;\">\n",
       "      <th></th>\n",
       "      <th>review</th>\n",
       "      <th>sentiment</th>\n",
       "    </tr>\n",
       "  </thead>\n",
       "  <tbody>\n",
       "    <tr>\n",
       "      <th>0</th>\n",
       "      <td>Great coffee and vibe. That's all  you need. C...</td>\n",
       "      <td>5</td>\n",
       "    </tr>\n",
       "    <tr>\n",
       "      <th>1</th>\n",
       "      <td>Great coffee and vibe. That's all  you need. C...</td>\n",
       "      <td>4</td>\n",
       "    </tr>\n",
       "    <tr>\n",
       "      <th>2</th>\n",
       "      <td>Great food amazing coffee and tea. Short walk ...</td>\n",
       "      <td>5</td>\n",
       "    </tr>\n",
       "    <tr>\n",
       "      <th>3</th>\n",
       "      <td>It was ok. Had coffee with my friends. I'm new...</td>\n",
       "      <td>3</td>\n",
       "    </tr>\n",
       "    <tr>\n",
       "      <th>4</th>\n",
       "      <td>Ricotta hot cakes! These were so yummy. I ate ...</td>\n",
       "      <td>5</td>\n",
       "    </tr>\n",
       "    <tr>\n",
       "      <th>5</th>\n",
       "      <td>Great staff and food.  Must try is the pan fri...</td>\n",
       "      <td>5</td>\n",
       "    </tr>\n",
       "    <tr>\n",
       "      <th>6</th>\n",
       "      <td>I came to Social brew cafe for brunch while ex...</td>\n",
       "      <td>5</td>\n",
       "    </tr>\n",
       "    <tr>\n",
       "      <th>7</th>\n",
       "      <td>We came for brunch twice in our week-long visi...</td>\n",
       "      <td>4</td>\n",
       "    </tr>\n",
       "    <tr>\n",
       "      <th>8</th>\n",
       "      <td>It was ok. The coffee wasn't the best but it w...</td>\n",
       "      <td>3</td>\n",
       "    </tr>\n",
       "    <tr>\n",
       "      <th>9</th>\n",
       "      <td>I went here a little while ago- a beautiful mo...</td>\n",
       "      <td>2</td>\n",
       "    </tr>\n",
       "    <tr>\n",
       "      <th>10</th>\n",
       "      <td>This place is a gem. The ambiance is to die fo...</td>\n",
       "      <td>3</td>\n",
       "    </tr>\n",
       "  </tbody>\n",
       "</table>\n",
       "</div>"
      ],
      "text/plain": [
       "                                               review  sentiment\n",
       "0   Great coffee and vibe. That's all  you need. C...          5\n",
       "1   Great coffee and vibe. That's all  you need. C...          4\n",
       "2   Great food amazing coffee and tea. Short walk ...          5\n",
       "3   It was ok. Had coffee with my friends. I'm new...          3\n",
       "4   Ricotta hot cakes! These were so yummy. I ate ...          5\n",
       "5   Great staff and food.  Must try is the pan fri...          5\n",
       "6   I came to Social brew cafe for brunch while ex...          5\n",
       "7   We came for brunch twice in our week-long visi...          4\n",
       "8   It was ok. The coffee wasn't the best but it w...          3\n",
       "9   I went here a little while ago- a beautiful mo...          2\n",
       "10  This place is a gem. The ambiance is to die fo...          3"
      ]
     },
     "execution_count": 10,
     "metadata": {},
     "output_type": "execute_result"
    }
   ],
   "source": [
    "df"
   ]
  },
  {
   "cell_type": "code",
   "execution_count": 15,
   "metadata": {},
   "outputs": [
    {
     "data": {
      "text/plain": [
       "'I went here a little while ago- a beautiful morning,a lovely little brew house on a quaint street corner- perfection.I went to this cafe with my step-daughter Lucille.She was always raving about how great it was to her mother, so I thought it would be a nice idea to go here with her for her birthday... boy was I wrong.She announced her hatred for me while I was waiting for my extra large iced frappé. It felt like hours of awkward silence once she said those four words; \"you\\'re a low-life.\"Was it in my mind, or was my drink taking ages to arrive? The hands on the clock didn\\'t budge from the last time I glanced at them- 7:43AM, where the fuck is my drink?\"Why do you always feel you have to be my friend? You\\'re not my dad!\" She fired.I could only sit there, my head facing down towards the floral tablecloth that lay beneath my quivering arms. The bullet lodged in my heart.I don\\'t understand why she hates me so much; is it my jokes? The funny way I walk? The fact that I often scream myself awake in the mornings? I guess I\\'ll never know.The truth is, I don\\'t really care about her that much at all. I\\'m only part of her family because her mother gives such great head. Other than that, she\\'s essentially bat shit on the pavement; waiting for some other poor soul to step on her once I\\'ve divorced her mother. I can\\'t say that to her though... at least not until her mother has let herself go.Where the fuck is my drink?The silence continued until the waiter brought over our coffees. About time!\"That looks nice\" I said to her as she stirred her sugar into the light brown liquid.\"Don\\'t talk to me. You always try to talk to me even though you know you\\'ll get nowhere. Why?\"\"Because I want to get to know you, I\\'m part of your family now.\" I said in reply.\"You\\'re fucking gross and you only want to hang around me because you have no mates.\"\"That isn\\'t true, I have plenty of friends, they just all died in terrible accidents under mildly suspicious circumstances.\" I retorted, happy with my defence.She sniggered, \"why did your last wife leave you anyways?\"\"She wasn\\'t happy with the way I used to curl up in the top-load washing machine and wait there until she unknowingly turned it on while I was in there. In my opinion, it saves time and water. Why have a shower and wash your clothes separately when you can do them simultaneously? I think she was angry because I didn\\'t seperate the whites and the blacks\" I stated, as I took my first sip of delicious Iced Frappé. The cream at the top coating my top lip.She replied, standing up and pushing in her chair, \"You\\'re fucking mental. I\\'m leaving, if you come back home, I\\'m literally killing myself.\" She exited the cafe.With the threat of suicide and the taste of coffee on my tongue, I left... alone.Overall it\\'s a lovely place, highly recommend it for anyone living in the Pyrmont area. Great atmosphere and wonderful staff.Definitely coming back.- 5 stars!!!'"
      ]
     },
     "execution_count": 15,
     "metadata": {},
     "output_type": "execute_result"
    }
   ],
   "source": [
    "df['review'].iloc[9]"
   ]
  }
 ],
 "metadata": {
  "kernelspec": {
   "display_name": "Python 3",
   "language": "python",
   "name": "python3"
  },
  "language_info": {
   "codemirror_mode": {
    "name": "ipython",
    "version": 3
   },
   "file_extension": ".py",
   "mimetype": "text/x-python",
   "name": "python",
   "nbconvert_exporter": "python",
   "pygments_lexer": "ipython3",
   "version": "3.11.3"
  },
  "orig_nbformat": 4
 },
 "nbformat": 4,
 "nbformat_minor": 2
}
